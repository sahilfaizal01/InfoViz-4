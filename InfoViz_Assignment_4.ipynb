{
  "nbformat": 4,
  "nbformat_minor": 0,
  "metadata": {
    "colab": {
      "provenance": []
    },
    "kernelspec": {
      "name": "python3",
      "display_name": "Python 3"
    },
    "language_info": {
      "name": "python"
    }
  },
  "cells": [
    {
      "cell_type": "markdown",
      "source": [
        "# **Reading the dataframe**"
      ],
      "metadata": {
        "id": "_AMoWQpZuvsd"
      }
    },
    {
      "cell_type": "code",
      "execution_count": 20,
      "metadata": {
        "colab": {
          "base_uri": "https://localhost:8080/",
          "height": 379
        },
        "id": "rUrYIOmX2YyC",
        "outputId": "8552b548-8fa8-4863-8b12-6160bb175188"
      },
      "outputs": [
        {
          "output_type": "stream",
          "name": "stderr",
          "text": [
            "<ipython-input-20-4daf2cb65dd2>:3: DtypeWarning:\n",
            "\n",
            "Columns (6) have mixed types. Specify dtype option on import or set low_memory=False.\n",
            "\n"
          ]
        },
        {
          "output_type": "execute_result",
          "data": {
            "text/plain": [
              "  County Name  County Code  Health Topic Number       Health Topic  \\\n",
              "0      Albany            1                    1  Cancer Indicators   \n",
              "1      Albany            1                    1  Cancer Indicators   \n",
              "2      Albany            1                    1  Cancer Indicators   \n",
              "3      Albany            1                    1  Cancer Indicators   \n",
              "4      Albany            1                    1  Cancer Indicators   \n",
              "\n",
              "  Indicator ID                         Indicator Name Date Year  \\\n",
              "0           g1  All cancer incidence rate per 100,000      2011   \n",
              "1           g1  All cancer incidence rate per 100,000      2012   \n",
              "2           g1  All cancer incidence rate per 100,000      2013   \n",
              "3           g1  All cancer incidence rate per 100,000      2014   \n",
              "4           g1  All cancer incidence rate per 100,000      2015   \n",
              "\n",
              "   Trend Data County Value Comment for Trend Data County Value  \\\n",
              "0                    627.1                                 NaN   \n",
              "1                    600.0                                 NaN   \n",
              "2                    575.9                                 NaN   \n",
              "3                    617.5                                 NaN   \n",
              "4                    655.3                                 NaN   \n",
              "\n",
              "   Trend Data NYC Value  Trend Data NYS exc. NYC Value  \\\n",
              "0                   NaN                          624.6   \n",
              "1                   NaN                          610.1   \n",
              "2                   NaN                          627.5   \n",
              "3                   NaN                          630.8   \n",
              "4                   NaN                          644.4   \n",
              "\n",
              "   Three Year Average County Value  \\\n",
              "0                              NaN   \n",
              "1                            593.8   \n",
              "2                            597.0   \n",
              "3                            612.8   \n",
              "4                            631.1   \n",
              "\n",
              "  Comment for Three Year Average County Value  \\\n",
              "0                              Not applicable   \n",
              "1                                         NaN   \n",
              "2                                         NaN   \n",
              "3                                         NaN   \n",
              "4                                         NaN   \n",
              "\n",
              "                               Data Source  \n",
              "0  Cancer Registry Data as of October 2022  \n",
              "1  Cancer Registry Data as of October 2022  \n",
              "2  Cancer Registry Data as of October 2022  \n",
              "3  Cancer Registry Data as of October 2022  \n",
              "4  Cancer Registry Data as of October 2022  "
            ],
            "text/html": [
              "\n",
              "  <div id=\"df-c4733659-6996-4cc7-a9b2-35cb0edfe278\" class=\"colab-df-container\">\n",
              "    <div>\n",
              "<style scoped>\n",
              "    .dataframe tbody tr th:only-of-type {\n",
              "        vertical-align: middle;\n",
              "    }\n",
              "\n",
              "    .dataframe tbody tr th {\n",
              "        vertical-align: top;\n",
              "    }\n",
              "\n",
              "    .dataframe thead th {\n",
              "        text-align: right;\n",
              "    }\n",
              "</style>\n",
              "<table border=\"1\" class=\"dataframe\">\n",
              "  <thead>\n",
              "    <tr style=\"text-align: right;\">\n",
              "      <th></th>\n",
              "      <th>County Name</th>\n",
              "      <th>County Code</th>\n",
              "      <th>Health Topic Number</th>\n",
              "      <th>Health Topic</th>\n",
              "      <th>Indicator ID</th>\n",
              "      <th>Indicator Name</th>\n",
              "      <th>Date Year</th>\n",
              "      <th>Trend Data County Value</th>\n",
              "      <th>Comment for Trend Data County Value</th>\n",
              "      <th>Trend Data NYC Value</th>\n",
              "      <th>Trend Data NYS exc. NYC Value</th>\n",
              "      <th>Three Year Average County Value</th>\n",
              "      <th>Comment for Three Year Average County Value</th>\n",
              "      <th>Data Source</th>\n",
              "    </tr>\n",
              "  </thead>\n",
              "  <tbody>\n",
              "    <tr>\n",
              "      <th>0</th>\n",
              "      <td>Albany</td>\n",
              "      <td>1</td>\n",
              "      <td>1</td>\n",
              "      <td>Cancer Indicators</td>\n",
              "      <td>g1</td>\n",
              "      <td>All cancer incidence rate per 100,000</td>\n",
              "      <td>2011</td>\n",
              "      <td>627.1</td>\n",
              "      <td>NaN</td>\n",
              "      <td>NaN</td>\n",
              "      <td>624.6</td>\n",
              "      <td>NaN</td>\n",
              "      <td>Not applicable</td>\n",
              "      <td>Cancer Registry Data as of October 2022</td>\n",
              "    </tr>\n",
              "    <tr>\n",
              "      <th>1</th>\n",
              "      <td>Albany</td>\n",
              "      <td>1</td>\n",
              "      <td>1</td>\n",
              "      <td>Cancer Indicators</td>\n",
              "      <td>g1</td>\n",
              "      <td>All cancer incidence rate per 100,000</td>\n",
              "      <td>2012</td>\n",
              "      <td>600.0</td>\n",
              "      <td>NaN</td>\n",
              "      <td>NaN</td>\n",
              "      <td>610.1</td>\n",
              "      <td>593.8</td>\n",
              "      <td>NaN</td>\n",
              "      <td>Cancer Registry Data as of October 2022</td>\n",
              "    </tr>\n",
              "    <tr>\n",
              "      <th>2</th>\n",
              "      <td>Albany</td>\n",
              "      <td>1</td>\n",
              "      <td>1</td>\n",
              "      <td>Cancer Indicators</td>\n",
              "      <td>g1</td>\n",
              "      <td>All cancer incidence rate per 100,000</td>\n",
              "      <td>2013</td>\n",
              "      <td>575.9</td>\n",
              "      <td>NaN</td>\n",
              "      <td>NaN</td>\n",
              "      <td>627.5</td>\n",
              "      <td>597.0</td>\n",
              "      <td>NaN</td>\n",
              "      <td>Cancer Registry Data as of October 2022</td>\n",
              "    </tr>\n",
              "    <tr>\n",
              "      <th>3</th>\n",
              "      <td>Albany</td>\n",
              "      <td>1</td>\n",
              "      <td>1</td>\n",
              "      <td>Cancer Indicators</td>\n",
              "      <td>g1</td>\n",
              "      <td>All cancer incidence rate per 100,000</td>\n",
              "      <td>2014</td>\n",
              "      <td>617.5</td>\n",
              "      <td>NaN</td>\n",
              "      <td>NaN</td>\n",
              "      <td>630.8</td>\n",
              "      <td>612.8</td>\n",
              "      <td>NaN</td>\n",
              "      <td>Cancer Registry Data as of October 2022</td>\n",
              "    </tr>\n",
              "    <tr>\n",
              "      <th>4</th>\n",
              "      <td>Albany</td>\n",
              "      <td>1</td>\n",
              "      <td>1</td>\n",
              "      <td>Cancer Indicators</td>\n",
              "      <td>g1</td>\n",
              "      <td>All cancer incidence rate per 100,000</td>\n",
              "      <td>2015</td>\n",
              "      <td>655.3</td>\n",
              "      <td>NaN</td>\n",
              "      <td>NaN</td>\n",
              "      <td>644.4</td>\n",
              "      <td>631.1</td>\n",
              "      <td>NaN</td>\n",
              "      <td>Cancer Registry Data as of October 2022</td>\n",
              "    </tr>\n",
              "  </tbody>\n",
              "</table>\n",
              "</div>\n",
              "    <div class=\"colab-df-buttons\">\n",
              "\n",
              "  <div class=\"colab-df-container\">\n",
              "    <button class=\"colab-df-convert\" onclick=\"convertToInteractive('df-c4733659-6996-4cc7-a9b2-35cb0edfe278')\"\n",
              "            title=\"Convert this dataframe to an interactive table.\"\n",
              "            style=\"display:none;\">\n",
              "\n",
              "  <svg xmlns=\"http://www.w3.org/2000/svg\" height=\"24px\" viewBox=\"0 -960 960 960\">\n",
              "    <path d=\"M120-120v-720h720v720H120Zm60-500h600v-160H180v160Zm220 220h160v-160H400v160Zm0 220h160v-160H400v160ZM180-400h160v-160H180v160Zm440 0h160v-160H620v160ZM180-180h160v-160H180v160Zm440 0h160v-160H620v160Z\"/>\n",
              "  </svg>\n",
              "    </button>\n",
              "\n",
              "  <style>\n",
              "    .colab-df-container {\n",
              "      display:flex;\n",
              "      gap: 12px;\n",
              "    }\n",
              "\n",
              "    .colab-df-convert {\n",
              "      background-color: #E8F0FE;\n",
              "      border: none;\n",
              "      border-radius: 50%;\n",
              "      cursor: pointer;\n",
              "      display: none;\n",
              "      fill: #1967D2;\n",
              "      height: 32px;\n",
              "      padding: 0 0 0 0;\n",
              "      width: 32px;\n",
              "    }\n",
              "\n",
              "    .colab-df-convert:hover {\n",
              "      background-color: #E2EBFA;\n",
              "      box-shadow: 0px 1px 2px rgba(60, 64, 67, 0.3), 0px 1px 3px 1px rgba(60, 64, 67, 0.15);\n",
              "      fill: #174EA6;\n",
              "    }\n",
              "\n",
              "    .colab-df-buttons div {\n",
              "      margin-bottom: 4px;\n",
              "    }\n",
              "\n",
              "    [theme=dark] .colab-df-convert {\n",
              "      background-color: #3B4455;\n",
              "      fill: #D2E3FC;\n",
              "    }\n",
              "\n",
              "    [theme=dark] .colab-df-convert:hover {\n",
              "      background-color: #434B5C;\n",
              "      box-shadow: 0px 1px 3px 1px rgba(0, 0, 0, 0.15);\n",
              "      filter: drop-shadow(0px 1px 2px rgba(0, 0, 0, 0.3));\n",
              "      fill: #FFFFFF;\n",
              "    }\n",
              "  </style>\n",
              "\n",
              "    <script>\n",
              "      const buttonEl =\n",
              "        document.querySelector('#df-c4733659-6996-4cc7-a9b2-35cb0edfe278 button.colab-df-convert');\n",
              "      buttonEl.style.display =\n",
              "        google.colab.kernel.accessAllowed ? 'block' : 'none';\n",
              "\n",
              "      async function convertToInteractive(key) {\n",
              "        const element = document.querySelector('#df-c4733659-6996-4cc7-a9b2-35cb0edfe278');\n",
              "        const dataTable =\n",
              "          await google.colab.kernel.invokeFunction('convertToInteractive',\n",
              "                                                    [key], {});\n",
              "        if (!dataTable) return;\n",
              "\n",
              "        const docLinkHtml = 'Like what you see? Visit the ' +\n",
              "          '<a target=\"_blank\" href=https://colab.research.google.com/notebooks/data_table.ipynb>data table notebook</a>'\n",
              "          + ' to learn more about interactive tables.';\n",
              "        element.innerHTML = '';\n",
              "        dataTable['output_type'] = 'display_data';\n",
              "        await google.colab.output.renderOutput(dataTable, element);\n",
              "        const docLink = document.createElement('div');\n",
              "        docLink.innerHTML = docLinkHtml;\n",
              "        element.appendChild(docLink);\n",
              "      }\n",
              "    </script>\n",
              "  </div>\n",
              "\n",
              "\n",
              "<div id=\"df-c1e1de28-ad12-41b0-994c-0d492bb3250f\">\n",
              "  <button class=\"colab-df-quickchart\" onclick=\"quickchart('df-c1e1de28-ad12-41b0-994c-0d492bb3250f')\"\n",
              "            title=\"Suggest charts\"\n",
              "            style=\"display:none;\">\n",
              "\n",
              "<svg xmlns=\"http://www.w3.org/2000/svg\" height=\"24px\"viewBox=\"0 0 24 24\"\n",
              "     width=\"24px\">\n",
              "    <g>\n",
              "        <path d=\"M19 3H5c-1.1 0-2 .9-2 2v14c0 1.1.9 2 2 2h14c1.1 0 2-.9 2-2V5c0-1.1-.9-2-2-2zM9 17H7v-7h2v7zm4 0h-2V7h2v10zm4 0h-2v-4h2v4z\"/>\n",
              "    </g>\n",
              "</svg>\n",
              "  </button>\n",
              "\n",
              "<style>\n",
              "  .colab-df-quickchart {\n",
              "      --bg-color: #E8F0FE;\n",
              "      --fill-color: #1967D2;\n",
              "      --hover-bg-color: #E2EBFA;\n",
              "      --hover-fill-color: #174EA6;\n",
              "      --disabled-fill-color: #AAA;\n",
              "      --disabled-bg-color: #DDD;\n",
              "  }\n",
              "\n",
              "  [theme=dark] .colab-df-quickchart {\n",
              "      --bg-color: #3B4455;\n",
              "      --fill-color: #D2E3FC;\n",
              "      --hover-bg-color: #434B5C;\n",
              "      --hover-fill-color: #FFFFFF;\n",
              "      --disabled-bg-color: #3B4455;\n",
              "      --disabled-fill-color: #666;\n",
              "  }\n",
              "\n",
              "  .colab-df-quickchart {\n",
              "    background-color: var(--bg-color);\n",
              "    border: none;\n",
              "    border-radius: 50%;\n",
              "    cursor: pointer;\n",
              "    display: none;\n",
              "    fill: var(--fill-color);\n",
              "    height: 32px;\n",
              "    padding: 0;\n",
              "    width: 32px;\n",
              "  }\n",
              "\n",
              "  .colab-df-quickchart:hover {\n",
              "    background-color: var(--hover-bg-color);\n",
              "    box-shadow: 0 1px 2px rgba(60, 64, 67, 0.3), 0 1px 3px 1px rgba(60, 64, 67, 0.15);\n",
              "    fill: var(--button-hover-fill-color);\n",
              "  }\n",
              "\n",
              "  .colab-df-quickchart-complete:disabled,\n",
              "  .colab-df-quickchart-complete:disabled:hover {\n",
              "    background-color: var(--disabled-bg-color);\n",
              "    fill: var(--disabled-fill-color);\n",
              "    box-shadow: none;\n",
              "  }\n",
              "\n",
              "  .colab-df-spinner {\n",
              "    border: 2px solid var(--fill-color);\n",
              "    border-color: transparent;\n",
              "    border-bottom-color: var(--fill-color);\n",
              "    animation:\n",
              "      spin 1s steps(1) infinite;\n",
              "  }\n",
              "\n",
              "  @keyframes spin {\n",
              "    0% {\n",
              "      border-color: transparent;\n",
              "      border-bottom-color: var(--fill-color);\n",
              "      border-left-color: var(--fill-color);\n",
              "    }\n",
              "    20% {\n",
              "      border-color: transparent;\n",
              "      border-left-color: var(--fill-color);\n",
              "      border-top-color: var(--fill-color);\n",
              "    }\n",
              "    30% {\n",
              "      border-color: transparent;\n",
              "      border-left-color: var(--fill-color);\n",
              "      border-top-color: var(--fill-color);\n",
              "      border-right-color: var(--fill-color);\n",
              "    }\n",
              "    40% {\n",
              "      border-color: transparent;\n",
              "      border-right-color: var(--fill-color);\n",
              "      border-top-color: var(--fill-color);\n",
              "    }\n",
              "    60% {\n",
              "      border-color: transparent;\n",
              "      border-right-color: var(--fill-color);\n",
              "    }\n",
              "    80% {\n",
              "      border-color: transparent;\n",
              "      border-right-color: var(--fill-color);\n",
              "      border-bottom-color: var(--fill-color);\n",
              "    }\n",
              "    90% {\n",
              "      border-color: transparent;\n",
              "      border-bottom-color: var(--fill-color);\n",
              "    }\n",
              "  }\n",
              "</style>\n",
              "\n",
              "  <script>\n",
              "    async function quickchart(key) {\n",
              "      const quickchartButtonEl =\n",
              "        document.querySelector('#' + key + ' button');\n",
              "      quickchartButtonEl.disabled = true;  // To prevent multiple clicks.\n",
              "      quickchartButtonEl.classList.add('colab-df-spinner');\n",
              "      try {\n",
              "        const charts = await google.colab.kernel.invokeFunction(\n",
              "            'suggestCharts', [key], {});\n",
              "      } catch (error) {\n",
              "        console.error('Error during call to suggestCharts:', error);\n",
              "      }\n",
              "      quickchartButtonEl.classList.remove('colab-df-spinner');\n",
              "      quickchartButtonEl.classList.add('colab-df-quickchart-complete');\n",
              "    }\n",
              "    (() => {\n",
              "      let quickchartButtonEl =\n",
              "        document.querySelector('#df-c1e1de28-ad12-41b0-994c-0d492bb3250f button');\n",
              "      quickchartButtonEl.style.display =\n",
              "        google.colab.kernel.accessAllowed ? 'block' : 'none';\n",
              "    })();\n",
              "  </script>\n",
              "</div>\n",
              "\n",
              "    </div>\n",
              "  </div>\n"
            ],
            "application/vnd.google.colaboratory.intrinsic+json": {
              "type": "dataframe",
              "variable_name": "df"
            }
          },
          "metadata": {},
          "execution_count": 20
        }
      ],
      "source": [
        "import pandas as pd\n",
        "\n",
        "df = pd.read_csv('/content/CHIRS_Trend_Data.csv')\n",
        "\n",
        "df.head()"
      ]
    },
    {
      "cell_type": "markdown",
      "source": [
        "# **Checking dataframe types**"
      ],
      "metadata": {
        "id": "I_MPrqkQu4bG"
      }
    },
    {
      "cell_type": "code",
      "source": [
        "df.info()"
      ],
      "metadata": {
        "colab": {
          "base_uri": "https://localhost:8080/"
        },
        "id": "QTgvEmD3Cz5V",
        "outputId": "f8ec51ad-81ec-4ec2-8c03-5b625de9480a"
      },
      "execution_count": 21,
      "outputs": [
        {
          "output_type": "stream",
          "name": "stdout",
          "text": [
            "<class 'pandas.core.frame.DataFrame'>\n",
            "RangeIndex: 178580 entries, 0 to 178579\n",
            "Data columns (total 14 columns):\n",
            " #   Column                                       Non-Null Count   Dtype  \n",
            "---  ------                                       --------------   -----  \n",
            " 0   County Name                                  178580 non-null  object \n",
            " 1   County Code                                  178580 non-null  int64  \n",
            " 2   Health Topic Number                          178580 non-null  int64  \n",
            " 3   Health Topic                                 178580 non-null  object \n",
            " 4   Indicator ID                                 178580 non-null  object \n",
            " 5   Indicator Name                               178580 non-null  object \n",
            " 6   Date Year                                    178580 non-null  object \n",
            " 7   Trend Data County Value                      147541 non-null  float64\n",
            " 8   Comment for Trend Data County Value          59016 non-null   object \n",
            " 9   Trend Data NYC Value                         15612 non-null   float64\n",
            " 10  Trend Data NYS exc. NYC Value                158261 non-null  float64\n",
            " 11  Three Year Average County Value              90812 non-null   float64\n",
            " 12  Comment for Three Year Average County Value  50687 non-null   object \n",
            " 13  Data Source                                  178580 non-null  object \n",
            "dtypes: float64(4), int64(2), object(8)\n",
            "memory usage: 19.1+ MB\n"
          ]
        }
      ]
    },
    {
      "cell_type": "markdown",
      "source": [
        "# **Data Exploration**"
      ],
      "metadata": {
        "id": "PSfKngxcu9Bn"
      }
    },
    {
      "cell_type": "code",
      "source": [
        "len(df[df['Health Topic']=='Cancer Indicators'])"
      ],
      "metadata": {
        "colab": {
          "base_uri": "https://localhost:8080/"
        },
        "id": "u0HYh8puDAaK",
        "outputId": "5fc06045-7b14-439d-9ae6-789915a6feaa"
      },
      "execution_count": 22,
      "outputs": [
        {
          "output_type": "execute_result",
          "data": {
            "text/plain": [
              "24381"
            ]
          },
          "metadata": {},
          "execution_count": 22
        }
      ]
    },
    {
      "cell_type": "code",
      "source": [
        "df['Health Topic'].unique()"
      ],
      "metadata": {
        "colab": {
          "base_uri": "https://localhost:8080/"
        },
        "id": "FKqS0owVK_eY",
        "outputId": "ed7b260b-42a0-4d65-8786-2dea2aed4248"
      },
      "execution_count": 23,
      "outputs": [
        {
          "output_type": "execute_result",
          "data": {
            "text/plain": [
              "array(['Cancer Indicators', 'Cardiovascular Disease Indicators',\n",
              "       'Child and Adolescent Health Indicators',\n",
              "       'Cirrhosis/Diabetes Indicators', 'Communicable Disease Indicators',\n",
              "       'Family Planning/Natality Indicators',\n",
              "       'HIV/AIDS and Other Sexually Transmitted Infection Indicators',\n",
              "       'Injury Indicators', 'Maternal and Infant Health Indicators',\n",
              "       'Obesity and Related Indicators', 'Occupational Health Indicators',\n",
              "       'Oral Health Indicators', 'Respiratory Disease Indicators',\n",
              "       'Socio-Economic Status and General Health Indicators',\n",
              "       'Tobacco, Alcohol and Other Substance Abuse Indicators'],\n",
              "      dtype=object)"
            ]
          },
          "metadata": {},
          "execution_count": 23
        }
      ]
    },
    {
      "cell_type": "code",
      "source": [
        "cancer_data = df[df['Health Topic']=='Cancer Indicators']"
      ],
      "metadata": {
        "id": "oPzlue5KK2y_"
      },
      "execution_count": 24,
      "outputs": []
    },
    {
      "cell_type": "code",
      "source": [
        "cancer_data.info()"
      ],
      "metadata": {
        "colab": {
          "base_uri": "https://localhost:8080/"
        },
        "id": "17rXGg3pK60u",
        "outputId": "30450dd4-eccf-442f-c3c8-e08188e81976"
      },
      "execution_count": 25,
      "outputs": [
        {
          "output_type": "stream",
          "name": "stdout",
          "text": [
            "<class 'pandas.core.frame.DataFrame'>\n",
            "Index: 24381 entries, 0 to 24380\n",
            "Data columns (total 14 columns):\n",
            " #   Column                                       Non-Null Count  Dtype  \n",
            "---  ------                                       --------------  -----  \n",
            " 0   County Name                                  24381 non-null  object \n",
            " 1   County Code                                  24381 non-null  int64  \n",
            " 2   Health Topic Number                          24381 non-null  int64  \n",
            " 3   Health Topic                                 24381 non-null  object \n",
            " 4   Indicator ID                                 24381 non-null  object \n",
            " 5   Indicator Name                               24381 non-null  object \n",
            " 6   Date Year                                    24381 non-null  object \n",
            " 7   Trend Data County Value                      15065 non-null  float64\n",
            " 8   Comment for Trend Data County Value          10655 non-null  object \n",
            " 9   Trend Data NYC Value                         2322 non-null   float64\n",
            " 10  Trend Data NYS exc. NYC Value                22446 non-null  float64\n",
            " 11  Three Year Average County Value              14654 non-null  float64\n",
            " 12  Comment for Three Year Average County Value  9512 non-null   object \n",
            " 13  Data Source                                  24381 non-null  object \n",
            "dtypes: float64(4), int64(2), object(8)\n",
            "memory usage: 2.8+ MB\n"
          ]
        }
      ]
    },
    {
      "cell_type": "code",
      "source": [
        "cancer_data.columns"
      ],
      "metadata": {
        "colab": {
          "base_uri": "https://localhost:8080/"
        },
        "id": "cacZ2VduMedh",
        "outputId": "eb03838f-8ede-4a6e-a423-cae6a999e785"
      },
      "execution_count": 26,
      "outputs": [
        {
          "output_type": "execute_result",
          "data": {
            "text/plain": [
              "Index(['County Name', 'County Code', 'Health Topic Number', 'Health Topic',\n",
              "       'Indicator ID', 'Indicator Name', 'Date Year',\n",
              "       'Trend Data County Value', 'Comment for Trend Data County Value',\n",
              "       'Trend Data NYC Value', 'Trend Data NYS exc. NYC Value',\n",
              "       'Three Year Average County Value',\n",
              "       'Comment for Three Year Average County Value', 'Data Source'],\n",
              "      dtype='object')"
            ]
          },
          "metadata": {},
          "execution_count": 26
        }
      ]
    },
    {
      "cell_type": "code",
      "source": [
        "indicator_counts = cancer_data['Indicator Name'].value_counts()\n",
        "\n",
        "# Display the counts\n",
        "print(indicator_counts)"
      ],
      "metadata": {
        "colab": {
          "base_uri": "https://localhost:8080/"
        },
        "id": "NkXnXuydbodC",
        "outputId": "5ddac924-4d8a-4b88-eba8-9a9065967326"
      },
      "execution_count": 27,
      "outputs": [
        {
          "output_type": "stream",
          "name": "stdout",
          "text": [
            "Indicator Name\n",
            "All cancer incidence rate per 100,000                                                                       630\n",
            "Age-adjusted ovarian cancer mortality rate per 100,000                                                      630\n",
            "Cervix uteri cancer incidence rate per 100,000                                                              630\n",
            "Age-adjusted cervix uteri cancer incidence rate per 100,000                                                 630\n",
            "Cervix uteri cancer mortality rate per 100,000                                                              630\n",
            "Age-adjusted cervix uteri cancer mortality rate per 100,000                                                 630\n",
            "Ovarian cancer incidence rate per 100,000                                                                   630\n",
            "Age-adjusted ovarian cancer incidence rate per 100,000                                                      630\n",
            "Ovarian cancer mortality rate per 100,000                                                                   630\n",
            "Prostate cancer incidence rate per 100,000                                                                  630\n",
            "Female breast cancer late stage incidence rate per 100,000                                                  630\n",
            "Age-adjusted prostate cancer incidence rate per 100,000                                                     630\n",
            "Prostate cancer mortality rate per 100,000                                                                  630\n",
            "Age-adjusted prostate cancer mortality rate per 100,000                                                     630\n",
            "Prostate cancer late stage incidence rate per 100,000                                                       630\n",
            "Age-adjusted prostate cancer late stage incidence rate per 100,000                                          630\n",
            "Melanoma cancer mortality rate per 100,000                                                                  630\n",
            "Age-adjusted melanoma cancer mortality rate per 100,000                                                     630\n",
            "Age-adjusted female breast cancer late stage incidence rate per 100,000                                     630\n",
            "Age-adjusted female breast cancer mortality rate per 100,000                                                630\n",
            "Age-adjusted all cancer incidence rate per 100,000                                                          630\n",
            "Age-adjusted colon and rectum cancer incidence rate per 100,000                                             630\n",
            "All cancer mortality rate per 100,000                                                                       630\n",
            "Age-adjusted all cancer mortality rate per 100,000                                                          630\n",
            "Oral cavity and pharynx cancer incidence rate per 100,000                                                   630\n",
            "Age-adjusted oral cavity and pharynx cancer incidence rate per 100,000                                      630\n",
            "Oral cavity and pharynx cancer mortality rate per 100,000                                                   630\n",
            "Age-adjusted oral cavity and pharynx cancer mortality rate per 100,000                                      630\n",
            "Colon and rectum cancer incidence rate per 100,000                                                          630\n",
            "Colon and rectum cancer mortality rate per 100,000                                                          630\n",
            "Female breast cancer mortality rate per 100,000                                                             630\n",
            "Age-adjusted colon and rectum cancer mortality rate per 100,000                                             630\n",
            "Lung and bronchus cancer incidence rate per 100,000                                                         630\n",
            "Age-adjusted lung and bronchus cancer incidence rate per 100,000                                            630\n",
            "Lung and bronchus cancer mortality rate per 100,000                                                         630\n",
            "Age-adjusted lung and bronchus cancer mortality rate per 100,000                                            630\n",
            "Female breast cancer incidence rate per 100,000                                                             630\n",
            "Age-adjusted female breast cancer incidence rate per 100,000                                                630\n",
            "Percentage of women (aged 50-74 years) who had a mammogram between October 1, 2019 and December 31, 2021    441\n",
            "Name: count, dtype: int64\n"
          ]
        }
      ]
    },
    {
      "cell_type": "markdown",
      "source": [
        "# **Preprocessing the data**"
      ],
      "metadata": {
        "id": "b7Wr3LwOvJvI"
      }
    },
    {
      "cell_type": "code",
      "source": [
        "# Preprocess the data\n",
        "data = cancer_data.iloc[:, :8]\n",
        "data['Three Year Average County Value'] = cancer_data.iloc[:, 11]\n",
        "data = data.dropna()\n",
        "# Ensure numeric conversion\n",
        "data['Date Year'] = pd.to_numeric(data['Date Year'], errors='coerce')\n",
        "data['Trend Data County Value'] = pd.to_numeric(data['Trend Data County Value'], errors='coerce')\n",
        "data['Three Year Average County Value'] = pd.to_numeric(data['Three Year Average County Value'], errors='coerce')\n",
        "\n",
        "# Create a list of unique counties and indicators for dropdown options\n",
        "counties = data['County Name'].unique()\n",
        "indicators = data['Indicator Name'].unique()\n",
        "\n",
        "\n",
        "# Shape of the dataframe\n",
        "data.shape\n",
        "print('Shape',data.shape)"
      ],
      "metadata": {
        "colab": {
          "base_uri": "https://localhost:8080/"
        },
        "id": "acTr_PQ5ZWqp",
        "outputId": "ae06e540-53ec-4399-b710-2589d9f05c9e"
      },
      "execution_count": 29,
      "outputs": [
        {
          "output_type": "stream",
          "name": "stdout",
          "text": [
            "Shape (10830, 9)\n"
          ]
        }
      ]
    }
  ]
}
